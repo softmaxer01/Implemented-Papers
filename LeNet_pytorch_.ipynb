{
  "nbformat": 4,
  "nbformat_minor": 0,
  "metadata": {
    "colab": {
      "provenance": [],
      "gpuType": "T4",
      "authorship_tag": "ABX9TyNmRsEljAtBEhl8GnLb+EaY",
      "include_colab_link": true
    },
    "kernelspec": {
      "name": "python3",
      "display_name": "Python 3"
    },
    "language_info": {
      "name": "python"
    },
    "accelerator": "GPU"
  },
  "cells": [
    {
      "cell_type": "markdown",
      "metadata": {
        "id": "view-in-github",
        "colab_type": "text"
      },
      "source": [
        "<a href=\"https://colab.research.google.com/github/srmty09/Implemented-Papers/blob/main/LeNet_pytorch_.ipynb\" target=\"_parent\"><img src=\"https://colab.research.google.com/assets/colab-badge.svg\" alt=\"Open In Colab\"/></a>"
      ]
    },
    {
      "cell_type": "markdown",
      "source": [
        "# Import Librarys"
      ],
      "metadata": {
        "id": "Ts5dyhKrgh2Y"
      }
    },
    {
      "cell_type": "code",
      "execution_count": null,
      "metadata": {
        "id": "gpccR7usf31-"
      },
      "outputs": [],
      "source": [
        "import torch\n",
        "import torch.nn as nn\n",
        "import torch.optim as optim\n",
        "import torchvision\n",
        "import torchvision.transforms as transforms\n",
        "from torch.utils.data import DataLoader\n",
        "import matplotlib.pyplot as plt\n",
        "import numpy as np"
      ]
    },
    {
      "cell_type": "code",
      "source": [
        "class LeNet5(nn.Module):\n",
        "  def __init__(self):\n",
        "    super(LeNet5,self).__init__()\n",
        "    self.conv1 = nn.Conv2d(in_channels=1,out_channels=6,kernel_size=5,stride=1,padding=2)\n",
        "    self.relu=nn.ReLU()\n",
        "    self.pool=nn.AvgPool2d(kernel_size=2,stride=2)\n",
        "    self.conv2 = nn.Conv2d(in_channels=6,out_channels=16,kernel_size=5,stride=1)\n",
        "    self.fc1=nn.Linear(in_features=16*5*5,out_features=120)\n",
        "    self.fc2=nn.Linear(in_features=120,out_features=84)\n",
        "    self.fc3=nn.Linear(in_features=84,out_features=10)\n",
        "\n",
        "  def forward(self,x):\n",
        "    x=self.pool(self.relu(self.conv1(x)))\n",
        "    x=self.pool(self.relu(self.conv2(x)))\n",
        "    x=x.view(-1,16*5*5)\n",
        "    x=self.relu(self.fc1(x))\n",
        "    x=self.relu(self.fc2(x))\n",
        "    x=self.fc3(x)\n",
        "    return x"
      ],
      "metadata": {
        "id": "ad-Oifn_ggxP"
      },
      "execution_count": null,
      "outputs": []
    },
    {
      "cell_type": "code",
      "source": [
        "import torchsummary as summary"
      ],
      "metadata": {
        "id": "AbaRF7a0jmEJ"
      },
      "execution_count": null,
      "outputs": []
    },
    {
      "cell_type": "code",
      "source": [
        "model=LeNet5()\n",
        "summary.summary(model,(1,28,28),device='cpu')"
      ],
      "metadata": {
        "colab": {
          "base_uri": "https://localhost:8080/"
        },
        "id": "uf0ajkiBjsFv",
        "outputId": "fb5d2d50-a4fa-4303-83c1-51ad948ec93d"
      },
      "execution_count": null,
      "outputs": [
        {
          "output_type": "stream",
          "name": "stdout",
          "text": [
            "----------------------------------------------------------------\n",
            "        Layer (type)               Output Shape         Param #\n",
            "================================================================\n",
            "            Conv2d-1            [-1, 6, 28, 28]             156\n",
            "              ReLU-2            [-1, 6, 28, 28]               0\n",
            "         AvgPool2d-3            [-1, 6, 14, 14]               0\n",
            "            Conv2d-4           [-1, 16, 10, 10]           2,416\n",
            "              ReLU-5           [-1, 16, 10, 10]               0\n",
            "         AvgPool2d-6             [-1, 16, 5, 5]               0\n",
            "            Linear-7                  [-1, 120]          48,120\n",
            "              ReLU-8                  [-1, 120]               0\n",
            "            Linear-9                   [-1, 84]          10,164\n",
            "             ReLU-10                   [-1, 84]               0\n",
            "           Linear-11                   [-1, 10]             850\n",
            "================================================================\n",
            "Total params: 61,706\n",
            "Trainable params: 61,706\n",
            "Non-trainable params: 0\n",
            "----------------------------------------------------------------\n",
            "Input size (MB): 0.00\n",
            "Forward/backward pass size (MB): 0.11\n",
            "Params size (MB): 0.24\n",
            "Estimated Total Size (MB): 0.35\n",
            "----------------------------------------------------------------\n"
          ]
        }
      ]
    },
    {
      "cell_type": "code",
      "source": [
        "batch_size=64\n",
        "epochs=10\n",
        "learning_rate=0.001"
      ],
      "metadata": {
        "id": "BpGbj-TyjyTv"
      },
      "execution_count": null,
      "outputs": []
    },
    {
      "cell_type": "markdown",
      "source": [
        "Data loader and Transformation"
      ],
      "metadata": {
        "id": "yKlE1PoXlkTC"
      }
    },
    {
      "cell_type": "code",
      "source": [
        "\n",
        "transform = transforms.Compose([\n",
        "    transforms.ToTensor(),\n",
        "    transforms.Normalize((0.1307,), (0.3081,))\n",
        "])\n",
        "\n",
        "train_dataset = torchvision.datasets.MNIST(root='./data', train=True, download=True, transform=transform) # Changed transforms to transform\n",
        "test_dataset = torchvision.datasets.MNIST(root='./data', train=False, download=True, transform=transform)   # Changed transforms to transform\n",
        "\n",
        "train_loader = DataLoader(train_dataset, batch_size=batch_size, shuffle=True)\n",
        "test_loader = DataLoader(test_dataset, batch_size=batch_size, shuffle=False)"
      ],
      "metadata": {
        "colab": {
          "base_uri": "https://localhost:8080/"
        },
        "id": "E5ZNZaD_liV0",
        "outputId": "d6f6b86f-8df5-4347-db85-6f1d84e8ef17"
      },
      "execution_count": null,
      "outputs": [
        {
          "output_type": "stream",
          "name": "stderr",
          "text": [
            "100%|██████████| 9.91M/9.91M [00:02<00:00, 4.15MB/s]\n",
            "100%|██████████| 28.9k/28.9k [00:00<00:00, 134kB/s]\n",
            "100%|██████████| 1.65M/1.65M [00:01<00:00, 1.26MB/s]\n",
            "100%|██████████| 4.54k/4.54k [00:00<00:00, 6.67MB/s]\n"
          ]
        }
      ]
    },
    {
      "cell_type": "code",
      "source": [
        "device=torch.device('cuda' if torch.cuda.is_available() else 'cpu')\n",
        "model=LeNet5().to(device)\n",
        "criterion=nn.CrossEntropyLoss()\n",
        "optimizer=optim.Adam(model.parameters(),lr=learning_rate)"
      ],
      "metadata": {
        "id": "QBl7jrUTm5dC"
      },
      "execution_count": null,
      "outputs": []
    },
    {
      "cell_type": "code",
      "source": [
        "train_losses,test_accuracy=[],[]\n",
        "for epoch in range(epochs):\n",
        "  model.train()\n",
        "  running_loss=0.0\n",
        "  for images,labels in train_loader:\n",
        "    images,labels=images.to(device),labels.to(device)\n",
        "    optimizer.zero_grad()\n",
        "    output=model(images)\n",
        "    loss=criterion(output,labels)\n",
        "    loss.backward()\n",
        "    optimizer.step()\n",
        "    running_loss+=loss.item()\n",
        "  train_losses.append(running_loss/len(train_loader))\n",
        "  print(f\"Epoch {epoch+1}/{epochs}, Loss: {running_loss/len(train_loader)}\")\n",
        "\n",
        "  model.eval()\n",
        "  correct,total=0,0\n",
        "  with torch.no_grad():\n",
        "    for images,labels in test_loader:\n",
        "      images,labels=images.to(device),labels.to(device)\n",
        "      outputs=model(images)\n",
        "      _,predicted=torch.max(outputs.data,1)\n",
        "      total+=labels.size(0)\n",
        "      correct+=(predicted==labels).sum().item()\n",
        "  test_accuracy.append(100*correct/total)\n",
        "  print(f\"Test Accuracy: {100*correct/total}%\")"
      ],
      "metadata": {
        "colab": {
          "base_uri": "https://localhost:8080/"
        },
        "id": "SAx1F2_tnYps",
        "outputId": "a8ed7456-1eab-4c13-c54a-57d72300aef6"
      },
      "execution_count": null,
      "outputs": [
        {
          "output_type": "stream",
          "name": "stdout",
          "text": [
            "Epoch 1/10, Loss: 0.2933939063409244\n",
            "Test Accuracy: 96.87%\n",
            "Epoch 2/10, Loss: 0.08471728556715985\n",
            "Test Accuracy: 98.19%\n",
            "Epoch 3/10, Loss: 0.05987613167013548\n",
            "Test Accuracy: 98.59%\n",
            "Epoch 4/10, Loss: 0.04665569441818964\n",
            "Test Accuracy: 98.55%\n",
            "Epoch 5/10, Loss: 0.038623214569756946\n",
            "Test Accuracy: 98.68%\n",
            "Epoch 6/10, Loss: 0.03360405019663179\n",
            "Test Accuracy: 98.61%\n",
            "Epoch 7/10, Loss: 0.028786181882270792\n",
            "Test Accuracy: 98.56%\n",
            "Epoch 8/10, Loss: 0.024390543496186808\n",
            "Test Accuracy: 98.98%\n",
            "Epoch 9/10, Loss: 0.02172650497000943\n",
            "Test Accuracy: 98.77%\n",
            "Epoch 10/10, Loss: 0.017957344569844755\n",
            "Test Accuracy: 98.83%\n"
          ]
        }
      ]
    },
    {
      "cell_type": "code",
      "source": [
        "import matplotlib.pyplot as plt\n",
        "plt.plot(train_losses,label='Training Loss')\n",
        "plt.xlabel('Epochs')\n",
        "plt.ylabel('Loss')\n",
        "plt.legend()\n",
        "plt.show()"
      ],
      "metadata": {
        "colab": {
          "base_uri": "https://localhost:8080/",
          "height": 449
        },
        "id": "WvpQFA-uo988",
        "outputId": "ca510ca3-f99b-4d98-d291-06162582d693"
      },
      "execution_count": null,
      "outputs": [
        {
          "output_type": "display_data",
          "data": {
            "text/plain": [
              "<Figure size 640x480 with 1 Axes>"
            ],
            "image/png": "[encoded data removed]"
          },
          "metadata": {}
        }
      ]
    },
    {
      "cell_type": "code",
      "source": [
        "plt.plot(test_accuracy,label='Test Accuracy')\n",
        "plt.xlabel('Epochs')\n",
        "plt.ylabel('Accuracy')\n",
        "plt.legend()\n",
        "plt.show()"
      ],
      "metadata": {
        "colab": {
          "base_uri": "https://localhost:8080/",
          "height": 449
        },
        "id": "VvDFmbZKt4O5",
        "outputId": "696ba04b-27f9-410b-acd8-018748f1a2ee"
      },
      "execution_count": null,
      "outputs": [
        {
          "output_type": "display_data",
          "data": {
            "text/plain": [
              "<Figure size 640x480 with 1 Axes>"
            ],
            "image/png": "[encoded data removed]"
          },
          "metadata": {}
        }
      ]
    },
    {
      "cell_type": "code",
      "source": [
        "def predict_image(image):\n",
        "  with torch.no_grad():\n",
        "    image=image.to(device)\n",
        "    output=model(image)\n",
        "    _,predicted=torch.max(output.data,1)\n",
        "    return predicted.item()"
      ],
      "metadata": {
        "id": "04P1T2gTt7YV"
      },
      "execution_count": null,
      "outputs": []
    },
    {
      "cell_type": "code",
      "source": [
        "for i in test_loader:\n",
        "  images,labels=i\n",
        "  break"
      ],
      "metadata": {
        "id": "f4aJ0mkJ2MQ9"
      },
      "execution_count": null,
      "outputs": []
    },
    {
      "cell_type": "code",
      "source": [
        "for i in range(len(images)):\n",
        "  print(f\"{predict_image(images[i].unsqueeze(0))}--->{labels[i]}\")"
      ],
      "metadata": {
        "colab": {
          "base_uri": "https://localhost:8080/"
        },
        "id": "wSqsB7-z2Nm7",
        "outputId": "7b5b9efc-38d4-4f96-e6a3-ea9047c2a04c"
      },
      "execution_count": null,
      "outputs": [
        {
          "output_type": "stream",
          "name": "stdout",
          "text": [
            "7--->7\n",
            "2--->2\n",
            "1--->1\n",
            "0--->0\n",
            "4--->4\n",
            "1--->1\n",
            "4--->4\n",
            "9--->9\n",
            "5--->5\n",
            "9--->9\n",
            "0--->0\n",
            "6--->6\n",
            "9--->9\n",
            "0--->0\n",
            "1--->1\n",
            "5--->5\n",
            "9--->9\n",
            "7--->7\n",
            "8--->3\n",
            "4--->4\n",
            "9--->9\n",
            "6--->6\n",
            "6--->6\n",
            "5--->5\n",
            "4--->4\n",
            "0--->0\n",
            "7--->7\n",
            "4--->4\n",
            "0--->0\n",
            "1--->1\n",
            "3--->3\n",
            "1--->1\n",
            "3--->3\n",
            "4--->4\n",
            "7--->7\n",
            "2--->2\n",
            "7--->7\n",
            "1--->1\n",
            "2--->2\n",
            "1--->1\n",
            "1--->1\n",
            "7--->7\n",
            "4--->4\n",
            "2--->2\n",
            "3--->3\n",
            "5--->5\n",
            "1--->1\n",
            "2--->2\n",
            "4--->4\n",
            "4--->4\n",
            "6--->6\n",
            "3--->3\n",
            "5--->5\n",
            "5--->5\n",
            "6--->6\n",
            "0--->0\n",
            "4--->4\n",
            "1--->1\n",
            "9--->9\n",
            "5--->5\n",
            "7--->7\n",
            "8--->8\n",
            "9--->9\n",
            "3--->3\n"
          ]
        }
      ]
    },
    {
      "cell_type": "code",
      "source": [],
      "metadata": {
        "id": "wUeKHe8h2m6D"
      },
      "execution_count": null,
      "outputs": []
    }
  ]
}